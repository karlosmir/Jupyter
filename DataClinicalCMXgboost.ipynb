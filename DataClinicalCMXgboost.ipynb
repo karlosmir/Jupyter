{
 "cells": [
  {
   "cell_type": "markdown",
   "id": "c297e3ad",
   "metadata": {},
   "source": [
    "# Proyecto Machine Learning\n",
    "## XGBOOST\n",
    "### Dataset Cáncer de Mama\n",
    "\n",
    "El objetivo de este proyecto es que a partir de datos clínicos **(1902 filas y 517 columnas)** en una RNA utilizando **XGBOOST** pronostique los fallecimientos por Cáncer de Mama y así podamos sacar las variables que nuestro algoritmo o modelo ha considerado importantes para pronosticar estos sucesos.\n",
    "La finalidad es investigar estos parámetros/proteínas/receptores de modo que sean de utilidad para futuros pacientes o para pacientes precoces para actuar de una forma más rápida o investigar estos supuestos.\n",
    "\n",
    "link data : https://www.kaggle.com/datasets/raghadalharbi/breast-cancer-gene-expression-profiles-metabric"
   ]
  },
  {
   "cell_type": "markdown",
   "id": "7d4a8dbb",
   "metadata": {},
   "source": [
    "### LIBRERIAS"
   ]
  },
  {
   "cell_type": "code",
   "execution_count": 1,
   "id": "897e6cb7",
   "metadata": {},
   "outputs": [],
   "source": [
    "import pandas as pd\n",
    "from sklearn.preprocessing import LabelEncoder\n",
    "from sklearn.model_selection import train_test_split\n",
    "from xgboost import XGBClassifier\n",
    "from sklearn.metrics import confusion_matrix\n",
    "from sklearn.model_selection import cross_val_score\n",
    "import warnings\n",
    "warnings.filterwarnings('ignore')"
   ]
  },
  {
   "cell_type": "markdown",
   "id": "4798d4a2",
   "metadata": {},
   "source": [
    "### PATH Y VISUALIZACIÓN DE DATOS"
   ]
  },
  {
   "cell_type": "code",
   "execution_count": 2,
   "id": "3c129288",
   "metadata": {},
   "outputs": [],
   "source": [
    "# PATH\n",
    "path = \"C:/Users/USUARIO/Desktop/Jupyter/DATA/\"\n",
    "data = pd.read_csv(path + \"METABRIC_RNA_Mutation.csv\")"
   ]
  },
  {
   "cell_type": "code",
   "execution_count": 3,
   "id": "5f4c9881",
   "metadata": {},
   "outputs": [
    {
     "data": {
      "text/html": [
       "<div>\n",
       "<style scoped>\n",
       "    .dataframe tbody tr th:only-of-type {\n",
       "        vertical-align: middle;\n",
       "    }\n",
       "\n",
       "    .dataframe tbody tr th {\n",
       "        vertical-align: top;\n",
       "    }\n",
       "\n",
       "    .dataframe thead th {\n",
       "        text-align: right;\n",
       "    }\n",
       "</style>\n",
       "<table border=\"1\" class=\"dataframe\">\n",
       "  <thead>\n",
       "    <tr style=\"text-align: right;\">\n",
       "      <th></th>\n",
       "      <th>patient_id</th>\n",
       "      <th>age_at_diagnosis</th>\n",
       "      <th>type_of_breast_surgery</th>\n",
       "      <th>cancer_type</th>\n",
       "      <th>cancer_type_detailed</th>\n",
       "      <th>cellularity</th>\n",
       "      <th>chemotherapy</th>\n",
       "      <th>pam50_+_claudin-low_subtype</th>\n",
       "      <th>cohort</th>\n",
       "      <th>er_status_measured_by_ihc</th>\n",
       "      <th>...</th>\n",
       "      <th>mtap_mut</th>\n",
       "      <th>ppp2cb_mut</th>\n",
       "      <th>smarcd1_mut</th>\n",
       "      <th>nras_mut</th>\n",
       "      <th>ndfip1_mut</th>\n",
       "      <th>hras_mut</th>\n",
       "      <th>prps2_mut</th>\n",
       "      <th>smarcb1_mut</th>\n",
       "      <th>stmn2_mut</th>\n",
       "      <th>siah1_mut</th>\n",
       "    </tr>\n",
       "  </thead>\n",
       "  <tbody>\n",
       "    <tr>\n",
       "      <th>0</th>\n",
       "      <td>0</td>\n",
       "      <td>75.65</td>\n",
       "      <td>MASTECTOMY</td>\n",
       "      <td>Breast Cancer</td>\n",
       "      <td>Breast Invasive Ductal Carcinoma</td>\n",
       "      <td>NaN</td>\n",
       "      <td>0</td>\n",
       "      <td>claudin-low</td>\n",
       "      <td>1.0</td>\n",
       "      <td>Positve</td>\n",
       "      <td>...</td>\n",
       "      <td>0</td>\n",
       "      <td>0</td>\n",
       "      <td>0</td>\n",
       "      <td>0</td>\n",
       "      <td>0</td>\n",
       "      <td>0</td>\n",
       "      <td>0</td>\n",
       "      <td>0</td>\n",
       "      <td>0</td>\n",
       "      <td>0</td>\n",
       "    </tr>\n",
       "    <tr>\n",
       "      <th>1</th>\n",
       "      <td>2</td>\n",
       "      <td>43.19</td>\n",
       "      <td>BREAST CONSERVING</td>\n",
       "      <td>Breast Cancer</td>\n",
       "      <td>Breast Invasive Ductal Carcinoma</td>\n",
       "      <td>High</td>\n",
       "      <td>0</td>\n",
       "      <td>LumA</td>\n",
       "      <td>1.0</td>\n",
       "      <td>Positve</td>\n",
       "      <td>...</td>\n",
       "      <td>0</td>\n",
       "      <td>0</td>\n",
       "      <td>0</td>\n",
       "      <td>0</td>\n",
       "      <td>0</td>\n",
       "      <td>0</td>\n",
       "      <td>0</td>\n",
       "      <td>0</td>\n",
       "      <td>0</td>\n",
       "      <td>0</td>\n",
       "    </tr>\n",
       "    <tr>\n",
       "      <th>2</th>\n",
       "      <td>5</td>\n",
       "      <td>48.87</td>\n",
       "      <td>MASTECTOMY</td>\n",
       "      <td>Breast Cancer</td>\n",
       "      <td>Breast Invasive Ductal Carcinoma</td>\n",
       "      <td>High</td>\n",
       "      <td>1</td>\n",
       "      <td>LumB</td>\n",
       "      <td>1.0</td>\n",
       "      <td>Positve</td>\n",
       "      <td>...</td>\n",
       "      <td>0</td>\n",
       "      <td>0</td>\n",
       "      <td>0</td>\n",
       "      <td>0</td>\n",
       "      <td>0</td>\n",
       "      <td>0</td>\n",
       "      <td>0</td>\n",
       "      <td>0</td>\n",
       "      <td>0</td>\n",
       "      <td>0</td>\n",
       "    </tr>\n",
       "    <tr>\n",
       "      <th>3</th>\n",
       "      <td>6</td>\n",
       "      <td>47.68</td>\n",
       "      <td>MASTECTOMY</td>\n",
       "      <td>Breast Cancer</td>\n",
       "      <td>Breast Mixed Ductal and Lobular Carcinoma</td>\n",
       "      <td>Moderate</td>\n",
       "      <td>1</td>\n",
       "      <td>LumB</td>\n",
       "      <td>1.0</td>\n",
       "      <td>Positve</td>\n",
       "      <td>...</td>\n",
       "      <td>0</td>\n",
       "      <td>0</td>\n",
       "      <td>0</td>\n",
       "      <td>0</td>\n",
       "      <td>0</td>\n",
       "      <td>0</td>\n",
       "      <td>0</td>\n",
       "      <td>0</td>\n",
       "      <td>0</td>\n",
       "      <td>0</td>\n",
       "    </tr>\n",
       "    <tr>\n",
       "      <th>4</th>\n",
       "      <td>8</td>\n",
       "      <td>76.97</td>\n",
       "      <td>MASTECTOMY</td>\n",
       "      <td>Breast Cancer</td>\n",
       "      <td>Breast Mixed Ductal and Lobular Carcinoma</td>\n",
       "      <td>High</td>\n",
       "      <td>1</td>\n",
       "      <td>LumB</td>\n",
       "      <td>1.0</td>\n",
       "      <td>Positve</td>\n",
       "      <td>...</td>\n",
       "      <td>0</td>\n",
       "      <td>0</td>\n",
       "      <td>0</td>\n",
       "      <td>0</td>\n",
       "      <td>0</td>\n",
       "      <td>0</td>\n",
       "      <td>0</td>\n",
       "      <td>0</td>\n",
       "      <td>0</td>\n",
       "      <td>0</td>\n",
       "    </tr>\n",
       "    <tr>\n",
       "      <th>5</th>\n",
       "      <td>10</td>\n",
       "      <td>78.77</td>\n",
       "      <td>MASTECTOMY</td>\n",
       "      <td>Breast Cancer</td>\n",
       "      <td>Breast Invasive Ductal Carcinoma</td>\n",
       "      <td>Moderate</td>\n",
       "      <td>0</td>\n",
       "      <td>LumB</td>\n",
       "      <td>1.0</td>\n",
       "      <td>Positve</td>\n",
       "      <td>...</td>\n",
       "      <td>0</td>\n",
       "      <td>0</td>\n",
       "      <td>0</td>\n",
       "      <td>0</td>\n",
       "      <td>0</td>\n",
       "      <td>0</td>\n",
       "      <td>0</td>\n",
       "      <td>0</td>\n",
       "      <td>0</td>\n",
       "      <td>0</td>\n",
       "    </tr>\n",
       "    <tr>\n",
       "      <th>6</th>\n",
       "      <td>14</td>\n",
       "      <td>56.45</td>\n",
       "      <td>BREAST CONSERVING</td>\n",
       "      <td>Breast Cancer</td>\n",
       "      <td>Breast Invasive Ductal Carcinoma</td>\n",
       "      <td>Moderate</td>\n",
       "      <td>1</td>\n",
       "      <td>LumB</td>\n",
       "      <td>1.0</td>\n",
       "      <td>Positve</td>\n",
       "      <td>...</td>\n",
       "      <td>0</td>\n",
       "      <td>0</td>\n",
       "      <td>0</td>\n",
       "      <td>0</td>\n",
       "      <td>0</td>\n",
       "      <td>0</td>\n",
       "      <td>0</td>\n",
       "      <td>0</td>\n",
       "      <td>0</td>\n",
       "      <td>0</td>\n",
       "    </tr>\n",
       "    <tr>\n",
       "      <th>7</th>\n",
       "      <td>22</td>\n",
       "      <td>89.08</td>\n",
       "      <td>BREAST CONSERVING</td>\n",
       "      <td>Breast Cancer</td>\n",
       "      <td>Breast Mixed Ductal and Lobular Carcinoma</td>\n",
       "      <td>Moderate</td>\n",
       "      <td>0</td>\n",
       "      <td>claudin-low</td>\n",
       "      <td>1.0</td>\n",
       "      <td>Positve</td>\n",
       "      <td>...</td>\n",
       "      <td>0</td>\n",
       "      <td>0</td>\n",
       "      <td>0</td>\n",
       "      <td>0</td>\n",
       "      <td>0</td>\n",
       "      <td>0</td>\n",
       "      <td>0</td>\n",
       "      <td>0</td>\n",
       "      <td>0</td>\n",
       "      <td>0</td>\n",
       "    </tr>\n",
       "    <tr>\n",
       "      <th>8</th>\n",
       "      <td>28</td>\n",
       "      <td>86.41</td>\n",
       "      <td>BREAST CONSERVING</td>\n",
       "      <td>Breast Cancer</td>\n",
       "      <td>Breast Invasive Ductal Carcinoma</td>\n",
       "      <td>Moderate</td>\n",
       "      <td>0</td>\n",
       "      <td>LumB</td>\n",
       "      <td>1.0</td>\n",
       "      <td>Positve</td>\n",
       "      <td>...</td>\n",
       "      <td>0</td>\n",
       "      <td>0</td>\n",
       "      <td>0</td>\n",
       "      <td>0</td>\n",
       "      <td>0</td>\n",
       "      <td>0</td>\n",
       "      <td>0</td>\n",
       "      <td>0</td>\n",
       "      <td>0</td>\n",
       "      <td>0</td>\n",
       "    </tr>\n",
       "    <tr>\n",
       "      <th>9</th>\n",
       "      <td>35</td>\n",
       "      <td>84.22</td>\n",
       "      <td>MASTECTOMY</td>\n",
       "      <td>Breast Cancer</td>\n",
       "      <td>Breast Invasive Lobular Carcinoma</td>\n",
       "      <td>High</td>\n",
       "      <td>0</td>\n",
       "      <td>Her2</td>\n",
       "      <td>1.0</td>\n",
       "      <td>Negative</td>\n",
       "      <td>...</td>\n",
       "      <td>0</td>\n",
       "      <td>0</td>\n",
       "      <td>0</td>\n",
       "      <td>0</td>\n",
       "      <td>0</td>\n",
       "      <td>0</td>\n",
       "      <td>0</td>\n",
       "      <td>0</td>\n",
       "      <td>0</td>\n",
       "      <td>0</td>\n",
       "    </tr>\n",
       "  </tbody>\n",
       "</table>\n",
       "<p>10 rows × 693 columns</p>\n",
       "</div>"
      ],
      "text/plain": [
       "   patient_id  age_at_diagnosis type_of_breast_surgery    cancer_type  \\\n",
       "0           0             75.65             MASTECTOMY  Breast Cancer   \n",
       "1           2             43.19      BREAST CONSERVING  Breast Cancer   \n",
       "2           5             48.87             MASTECTOMY  Breast Cancer   \n",
       "3           6             47.68             MASTECTOMY  Breast Cancer   \n",
       "4           8             76.97             MASTECTOMY  Breast Cancer   \n",
       "5          10             78.77             MASTECTOMY  Breast Cancer   \n",
       "6          14             56.45      BREAST CONSERVING  Breast Cancer   \n",
       "7          22             89.08      BREAST CONSERVING  Breast Cancer   \n",
       "8          28             86.41      BREAST CONSERVING  Breast Cancer   \n",
       "9          35             84.22             MASTECTOMY  Breast Cancer   \n",
       "\n",
       "                        cancer_type_detailed cellularity  chemotherapy  \\\n",
       "0           Breast Invasive Ductal Carcinoma         NaN             0   \n",
       "1           Breast Invasive Ductal Carcinoma        High             0   \n",
       "2           Breast Invasive Ductal Carcinoma        High             1   \n",
       "3  Breast Mixed Ductal and Lobular Carcinoma    Moderate             1   \n",
       "4  Breast Mixed Ductal and Lobular Carcinoma        High             1   \n",
       "5           Breast Invasive Ductal Carcinoma    Moderate             0   \n",
       "6           Breast Invasive Ductal Carcinoma    Moderate             1   \n",
       "7  Breast Mixed Ductal and Lobular Carcinoma    Moderate             0   \n",
       "8           Breast Invasive Ductal Carcinoma    Moderate             0   \n",
       "9          Breast Invasive Lobular Carcinoma        High             0   \n",
       "\n",
       "  pam50_+_claudin-low_subtype  cohort er_status_measured_by_ihc  ... mtap_mut  \\\n",
       "0                 claudin-low     1.0                   Positve  ...        0   \n",
       "1                        LumA     1.0                   Positve  ...        0   \n",
       "2                        LumB     1.0                   Positve  ...        0   \n",
       "3                        LumB     1.0                   Positve  ...        0   \n",
       "4                        LumB     1.0                   Positve  ...        0   \n",
       "5                        LumB     1.0                   Positve  ...        0   \n",
       "6                        LumB     1.0                   Positve  ...        0   \n",
       "7                 claudin-low     1.0                   Positve  ...        0   \n",
       "8                        LumB     1.0                   Positve  ...        0   \n",
       "9                        Her2     1.0                  Negative  ...        0   \n",
       "\n",
       "   ppp2cb_mut smarcd1_mut nras_mut ndfip1_mut  hras_mut prps2_mut smarcb1_mut  \\\n",
       "0           0           0        0          0         0         0           0   \n",
       "1           0           0        0          0         0         0           0   \n",
       "2           0           0        0          0         0         0           0   \n",
       "3           0           0        0          0         0         0           0   \n",
       "4           0           0        0          0         0         0           0   \n",
       "5           0           0        0          0         0         0           0   \n",
       "6           0           0        0          0         0         0           0   \n",
       "7           0           0        0          0         0         0           0   \n",
       "8           0           0        0          0         0         0           0   \n",
       "9           0           0        0          0         0         0           0   \n",
       "\n",
       "  stmn2_mut  siah1_mut  \n",
       "0         0          0  \n",
       "1         0          0  \n",
       "2         0          0  \n",
       "3         0          0  \n",
       "4         0          0  \n",
       "5         0          0  \n",
       "6         0          0  \n",
       "7         0          0  \n",
       "8         0          0  \n",
       "9         0          0  \n",
       "\n",
       "[10 rows x 693 columns]"
      ]
     },
     "execution_count": 3,
     "metadata": {},
     "output_type": "execute_result"
    }
   ],
   "source": [
    "data.head(10)"
   ]
  },
  {
   "cell_type": "markdown",
   "id": "184c1285",
   "metadata": {},
   "source": [
    "### Preprocesado\n",
    "Limpieza de datos nulos y columnas no dependientes del modelo"
   ]
  },
  {
   "cell_type": "code",
   "execution_count": 4,
   "id": "618f61a5",
   "metadata": {},
   "outputs": [
    {
     "name": "stdout",
     "output_type": "stream",
     "text": [
      "patient_id                 0\n",
      "age_at_diagnosis           0\n",
      "type_of_breast_surgery    22\n",
      "cancer_type                0\n",
      "cancer_type_detailed      15\n",
      "                          ..\n",
      "hras_mut                   0\n",
      "prps2_mut                  0\n",
      "smarcb1_mut                0\n",
      "stmn2_mut                  0\n",
      "siah1_mut                  0\n",
      "Length: 693, dtype: int64\n"
     ]
    }
   ],
   "source": [
    "print(data.isnull().sum())"
   ]
  },
  {
   "cell_type": "code",
   "execution_count": 5,
   "id": "a8475042",
   "metadata": {},
   "outputs": [],
   "source": [
    "data = data.iloc[:,1:-1] # Quitamos las id\n",
    "data = data.dropna() # Quitamos valores con null , filas totales 1092"
   ]
  },
  {
   "cell_type": "markdown",
   "id": "416f5a81",
   "metadata": {},
   "source": [
    "### Selección de datos\n",
    "Separamos nuestros datos del dataframe en variables dependientes o independientes.\n",
    "Almacenamos solamente las columnas que realmente tienen valores relevantes para nuestro algoritmo ya que por ejemplo las columnas hacía la derecha de **ugt2b7** toman valores nulos y en 0. Entonces no van a tener un peso estadístico en el problema y son irrelevantes. Entonces tomamos los siguientes datos:\n",
    "\n",
    "- La X, todas las columnas menos **'overall_survival', 'death_from_cancer' y las demás columnas hacia la derecha de ugt2b7** . Siendo estos los valores independientes.\n",
    "- La Y, con la columna de valores booleanos de **'overall_survival'**. Siendo este el valor dependiente.\n",
    "\n",
    "\n",
    "**Retroalimentación:**\n",
    "\n",
    "En la 1º propuesta de estudio el algoritmo reconoció la columna **death_from_cancer'** era totalmente dependiente de **overrall_survival** y daba un **100% de precision** de modo que la elimino para que empiece a dar peso a otras columnas y asi averiguar que columnas son determinantes para nuestro modelo."
   ]
  },
  {
   "cell_type": "code",
   "execution_count": 6,
   "id": "72038d37",
   "metadata": {},
   "outputs": [],
   "source": [
    "X = data.drop(['overall_survival', 'death_from_cancer'],axis=1)\n",
    "X = X.loc[:, :'ugt2b7'] # Despreciamos alrededor de 100 columnas con valores nulos \n",
    "Y = data.loc[: , ['overall_survival']]   # Personas que han sobrevivido o no"
   ]
  },
  {
   "cell_type": "markdown",
   "id": "28f2ff4b",
   "metadata": {},
   "source": [
    "### Transformación de datos\n",
    "\n",
    "En el dataframe existen variables tipo object de modo que las transformo con el metodo LabelEnconder(). Previamente recojo por la condiccion if el tipo object para que solo me seleccione las columnas que son tipo object."
   ]
  },
  {
   "cell_type": "code",
   "execution_count": 7,
   "id": "f03ce06e",
   "metadata": {},
   "outputs": [],
   "source": [
    "# Tipo de dato objeto para convertir el labelenconder de objeto a variable categorica\n",
    "tpro2 = X.iloc[:, 1].dtypes # object\n",
    "max = len(X.columns)\n",
    "le = LabelEncoder()"
   ]
  },
  {
   "cell_type": "code",
   "execution_count": 8,
   "id": "d9e882ee",
   "metadata": {},
   "outputs": [],
   "source": [
    "# Codificamos los objetos para cada columna\n",
    "for i in range(max):\n",
    "    if ( X.iloc[:,i].dtypes == tpro2):\n",
    "        X.iloc[:, i] = le.fit_transform(X.iloc[:, i])"
   ]
  },
  {
   "cell_type": "markdown",
   "id": "60584e8d",
   "metadata": {},
   "source": [
    "### TRAIN Y TEST\n",
    "Después de limpiar, preprocesar los datos, considerar que columnas son irrelavantes para nuestro modelo y transformar nuestros dato tipo texto a numérico ahora ya se pasaría a la fase de división de datos, es decir, considerar cuanto porcentaje de datos del dataset sería para entrenar nuestro modelo y el otro para testearlo y verificar su precisión. Normalmente:\n",
    "\n",
    "- TRAIN, tiene el 80% de datos del dataset original ya que cuanto más datos más comprobaciones realizará y más fiable será.\n",
    "- TEST, tiene el 20% de datos del dataset original y con él se mide la precisión.\n",
    "\n",
    "Como sería un proceso muy laborioso hacerlo manualmente con está gran cantidad de datos hay una función en Python del modulo sklearn llamada train_test_split que nos facilita esta división de datos."
   ]
  },
  {
   "cell_type": "code",
   "execution_count": 9,
   "id": "ef8e347b",
   "metadata": {},
   "outputs": [],
   "source": [
    "# Dividimos los datos usando la funcion train_test_split para Train Y test del modelo\n",
    "X_train, X_test, y_train, y_test = train_test_split(X, Y, test_size = 0.2, random_state = 0)"
   ]
  },
  {
   "cell_type": "markdown",
   "id": "63ac29c8",
   "metadata": {},
   "source": [
    "### XGBOOST\n",
    "XGBoost es una biblioteca de aumento de gradiente distribuida optimizada diseñada para ser altamente eficiente , flexible y portátil . Implementa algoritmos de aprendizaje automático bajo el marco Gradient Boosting . XGBoost proporciona un impulso de árbol paralelo (también conocido como GBDT, GBM) que resuelve muchos problemas de ciencia de datos de una manera rápida y precisa"
   ]
  },
  {
   "cell_type": "code",
   "execution_count": 10,
   "id": "b854544b",
   "metadata": {},
   "outputs": [],
   "source": [
    "# Llamamos a la funcion XGBOOST y creamos un objeto. Ajustamos el modelo y lo entrenamos\n",
    "XGBOOST = XGBClassifier()\n",
    "XGBOOST.fit(X_train, y_train)\n",
    "\n",
    "# Con el modelo entrenado, hacemos una prediccion de los datos del testing\n",
    "y_pred = XGBOOST.predict(X_test)"
   ]
  },
  {
   "cell_type": "markdown",
   "id": "1b9904b9",
   "metadata": {},
   "source": [
    "### TESTING DEL MODELO ENTRENADO\n",
    "Hacemos la matriz de confusión para evaluar los datos, se observa en ella que tenemos **169 personas acertadas**  con nuestro pronóstico  y **50 falsos positivos-negativos** del test de datos de **219 personas**. **Precisión 77'16%**"
   ]
  },
  {
   "cell_type": "code",
   "execution_count": 12,
   "id": "1c4d7916",
   "metadata": {},
   "outputs": [
    {
     "name": "stdout",
     "output_type": "stream",
     "text": [
      "[[101  21]\n",
      " [ 29  68]]\n"
     ]
    }
   ],
   "source": [
    "cm = confusion_matrix(y_test, y_pred)\n",
    "print(cm)"
   ]
  },
  {
   "cell_type": "code",
   "execution_count": 16,
   "id": "7dcd79ef",
   "metadata": {},
   "outputs": [
    {
     "name": "stdout",
     "output_type": "stream",
     "text": [
      "PRECISION :77.1689497716895\n"
     ]
    }
   ],
   "source": [
    "print( \"PRECISION :\" + str(((101+68)/219) * 100) )"
   ]
  },
  {
   "cell_type": "code",
   "execution_count": 17,
   "id": "e6ea06c0",
   "metadata": {},
   "outputs": [
    {
     "data": {
      "image/jpeg": "[encoded data removed]",
      "text/plain": [
       "<IPython.core.display.Image object>"
      ]
     },
     "execution_count": 17,
     "metadata": {},
     "output_type": "execute_result"
    }
   ],
   "source": [
    "from IPython.display import Image\n",
    "Image(\"C:/Users/USUARIO/Desktop/Jupyter/DATA/PrediccionCM.jpg\")"
   ]
  },
  {
   "cell_type": "markdown",
   "id": "1f5ca775",
   "metadata": {},
   "source": [
    "### K-FOLD VALIDATION\n",
    "Aplicamos el algoritmo de K-fold cross de validacion para medir la precisión de nuestro algoritmo\n",
    "teniendo asi una mejor medida (validacion cruzada).\n",
    "Como resultado obtengo una precisión óptima del modelo."
   ]
  },
  {
   "cell_type": "code",
   "execution_count": 19,
   "id": "ec1272ab",
   "metadata": {},
   "outputs": [
    {
     "name": "stdout",
     "output_type": "stream",
     "text": [
      "Precision: 76.29 %\n",
      "Desviacion estandar: 2.51 %\n"
     ]
    }
   ],
   "source": [
    "accuracies = cross_val_score(estimator = XGBOOST, X = X_train, y = y_train, cv = 10)\n",
    "print(\"Precision: {:.2f} %\".format(accuracies.mean()*100))\n",
    "print(\"Desviacion estandar: {:.2f} %\".format(accuracies.std()*100))"
   ]
  },
  {
   "cell_type": "markdown",
   "id": "6b6257ac",
   "metadata": {},
   "source": [
    "### MODELO ENTRENADO\n",
    "Como ya está el modelo entrenado y tengo una precisión óptima del **76%** ahora voy a sacar las columnas que el modelo de XGBOOST ha considerado importantes para pronosticar los casos clínicos del estudio de cáncer de mama."
   ]
  },
  {
   "cell_type": "code",
   "execution_count": 20,
   "id": "b919d54c",
   "metadata": {},
   "outputs": [],
   "source": [
    "# Vamos a ver que columnas le ha dado mas importancia para nuestro modelo\n",
    "colummnas_importancia = XGBOOST.feature_importances_\n",
    "columnasnombres = XGBOOST.feature_names_in_\n",
    "dataXgboost = pd.DataFrame(colummnas_importancia, columnasnombres)\n",
    "dataXgboost = dataXgboost.rename(columns={0:'Importancia %'})\n",
    "orden_desce = dataXgboost.sort_values('Importancia %',ascending=False)"
   ]
  },
  {
   "cell_type": "code",
   "execution_count": 22,
   "id": "0039469a",
   "metadata": {},
   "outputs": [
    {
     "name": "stdout",
     "output_type": "stream",
     "text": [
      "                         Importancia %\n",
      "erbb2                         0.018316\n",
      "folr2                         0.018266\n",
      "psen1                         0.016744\n",
      "cohort                        0.016728\n",
      "rps6                          0.015055\n",
      "stmn2                         0.014747\n",
      "or6a2                         0.014075\n",
      "csf1r                         0.013306\n",
      "folr1                         0.013133\n",
      "overall_survival_months       0.012892\n",
      "foxo3                         0.012499\n",
      "cyp17a1                       0.012377\n",
      "rad51c                        0.011998\n",
      "gdf2                          0.011766\n",
      "aurka                         0.010807\n",
      "bmp6                          0.010365\n",
      "dph1                          0.009674\n",
      "e2f1                          0.009483\n",
      "cdkn2c                        0.009194\n",
      "casp3                         0.009009\n"
     ]
    }
   ],
   "source": [
    "print(orden_desce.head(20))"
   ]
  },
  {
   "cell_type": "markdown",
   "id": "6f11bce9",
   "metadata": {},
   "source": [
    "## Conclusión\n",
    "Podemos observar que estas columnas/características son significativas para nuestro algoritmo en menos de un 2%. Ahora conociendo estos datos podríamos hacer nuestro caso de estudio con los pacientes que presentaran estas características/proteinas/receptores en los informes. Por ejemplo:\n",
    "- **erbb2**, es un receptor que muta en algunos cánceres de mama.\n",
    "- **folr2**, Proteina FOLR2 folate receptor beta [(human)]\n",
    "- **cohort**, es un grupo de sujetos que comparten una característica definitoria (Toma un valor de 1 a 5)\n",
    "- ...\n",
    "\n",
    "**Autor: Carlos Mir Martínez**\n",
    "\n",
    "**Fecha:21/05/2022**"
   ]
  }
 ],
 "metadata": {
  "kernelspec": {
   "display_name": "Python 3 (ipykernel)",
   "language": "python",
   "name": "python3"
  },
  "language_info": {
   "codemirror_mode": {
    "name": "ipython",
    "version": 3
   },
   "file_extension": ".py",
   "mimetype": "text/x-python",
   "name": "python",
   "nbconvert_exporter": "python",
   "pygments_lexer": "ipython3",
   "version": "3.7.13"
  }
 },
 "nbformat": 4,
 "nbformat_minor": 5
}
