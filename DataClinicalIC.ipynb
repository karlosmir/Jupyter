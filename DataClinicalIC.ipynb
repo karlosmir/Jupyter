{
 "cells": [
  {
   "cell_type": "markdown",
   "id": "ae5cc5df",
   "metadata": {},
   "source": [
    "# Proyecto Machine Learning Forecasting\n",
    "## XGBOOST\n",
    "### Dataset Ictus\n",
    "\n",
    "El objetivo de este proyecto es que a partir de datos clínicos **(5110 filas y 12 columnas)** en una RNA utilizando **XGBOOST** pronostique los sucesos por ictus y así podamos sacar las variables que nuestro modelo ha considerado importantes para pronosticar estos sucesos.\n",
    "La finalidad es investigar estos parámetros/columnas de modo que sean de utilidad para futuros pacientes o para pacientes precoces para actuar de una forma más rapida o investigar estos supuestos.\n",
    "\n",
    "link data : https://www.kaggle.com/datasets/fedesoriano/stroke-prediction-dataset"
   ]
  },
  {
   "cell_type": "markdown",
   "id": "032aed60",
   "metadata": {},
   "source": [
    "### LIBRERIAS"
   ]
  },
  {
   "cell_type": "code",
   "execution_count": 17,
   "id": "2b77b938",
   "metadata": {},
   "outputs": [],
   "source": [
    "import pandas as pd\n",
    "from sklearn.preprocessing import LabelEncoder\n",
    "from sklearn.model_selection import train_test_split\n",
    "from xgboost import XGBClassifier\n",
    "from sklearn.metrics import confusion_matrix\n",
    "from sklearn.model_selection import cross_val_score\n",
    "import warnings\n",
    "warnings.filterwarnings('ignore')"
   ]
  },
  {
   "cell_type": "markdown",
   "id": "c3ed9997",
   "metadata": {},
   "source": [
    "### PATH Y VISUALIZACIÓN DE DATOS"
   ]
  },
  {
   "cell_type": "code",
   "execution_count": 18,
   "id": "d98c76a2",
   "metadata": {},
   "outputs": [],
   "source": [
    "# PATH\n",
    "path = \"C:/Users/USUARIO/Desktop/Jupyter/DATA/\"\n",
    "data = pd.read_csv(path + \"healthcare-dataset-stroke-data.csv\")"
   ]
  },
  {
   "cell_type": "code",
   "execution_count": 19,
   "id": "3e4293ea",
   "metadata": {},
   "outputs": [
    {
     "data": {
      "text/html": [
       "<div>\n",
       "<style scoped>\n",
       "    .dataframe tbody tr th:only-of-type {\n",
       "        vertical-align: middle;\n",
       "    }\n",
       "\n",
       "    .dataframe tbody tr th {\n",
       "        vertical-align: top;\n",
       "    }\n",
       "\n",
       "    .dataframe thead th {\n",
       "        text-align: right;\n",
       "    }\n",
       "</style>\n",
       "<table border=\"1\" class=\"dataframe\">\n",
       "  <thead>\n",
       "    <tr style=\"text-align: right;\">\n",
       "      <th></th>\n",
       "      <th>id</th>\n",
       "      <th>gender</th>\n",
       "      <th>age</th>\n",
       "      <th>hypertension</th>\n",
       "      <th>heart_disease</th>\n",
       "      <th>ever_married</th>\n",
       "      <th>work_type</th>\n",
       "      <th>Residence_type</th>\n",
       "      <th>avg_glucose_level</th>\n",
       "      <th>bmi</th>\n",
       "      <th>smoking_status</th>\n",
       "      <th>stroke</th>\n",
       "    </tr>\n",
       "  </thead>\n",
       "  <tbody>\n",
       "    <tr>\n",
       "      <th>0</th>\n",
       "      <td>9046</td>\n",
       "      <td>Male</td>\n",
       "      <td>67.0</td>\n",
       "      <td>0</td>\n",
       "      <td>1</td>\n",
       "      <td>Yes</td>\n",
       "      <td>Private</td>\n",
       "      <td>Urban</td>\n",
       "      <td>228.69</td>\n",
       "      <td>36.6</td>\n",
       "      <td>formerly smoked</td>\n",
       "      <td>1</td>\n",
       "    </tr>\n",
       "    <tr>\n",
       "      <th>1</th>\n",
       "      <td>51676</td>\n",
       "      <td>Female</td>\n",
       "      <td>61.0</td>\n",
       "      <td>0</td>\n",
       "      <td>0</td>\n",
       "      <td>Yes</td>\n",
       "      <td>Self-employed</td>\n",
       "      <td>Rural</td>\n",
       "      <td>202.21</td>\n",
       "      <td>NaN</td>\n",
       "      <td>never smoked</td>\n",
       "      <td>1</td>\n",
       "    </tr>\n",
       "    <tr>\n",
       "      <th>2</th>\n",
       "      <td>31112</td>\n",
       "      <td>Male</td>\n",
       "      <td>80.0</td>\n",
       "      <td>0</td>\n",
       "      <td>1</td>\n",
       "      <td>Yes</td>\n",
       "      <td>Private</td>\n",
       "      <td>Rural</td>\n",
       "      <td>105.92</td>\n",
       "      <td>32.5</td>\n",
       "      <td>never smoked</td>\n",
       "      <td>1</td>\n",
       "    </tr>\n",
       "    <tr>\n",
       "      <th>3</th>\n",
       "      <td>60182</td>\n",
       "      <td>Female</td>\n",
       "      <td>49.0</td>\n",
       "      <td>0</td>\n",
       "      <td>0</td>\n",
       "      <td>Yes</td>\n",
       "      <td>Private</td>\n",
       "      <td>Urban</td>\n",
       "      <td>171.23</td>\n",
       "      <td>34.4</td>\n",
       "      <td>smokes</td>\n",
       "      <td>1</td>\n",
       "    </tr>\n",
       "    <tr>\n",
       "      <th>4</th>\n",
       "      <td>1665</td>\n",
       "      <td>Female</td>\n",
       "      <td>79.0</td>\n",
       "      <td>1</td>\n",
       "      <td>0</td>\n",
       "      <td>Yes</td>\n",
       "      <td>Self-employed</td>\n",
       "      <td>Rural</td>\n",
       "      <td>174.12</td>\n",
       "      <td>24.0</td>\n",
       "      <td>never smoked</td>\n",
       "      <td>1</td>\n",
       "    </tr>\n",
       "    <tr>\n",
       "      <th>5</th>\n",
       "      <td>56669</td>\n",
       "      <td>Male</td>\n",
       "      <td>81.0</td>\n",
       "      <td>0</td>\n",
       "      <td>0</td>\n",
       "      <td>Yes</td>\n",
       "      <td>Private</td>\n",
       "      <td>Urban</td>\n",
       "      <td>186.21</td>\n",
       "      <td>29.0</td>\n",
       "      <td>formerly smoked</td>\n",
       "      <td>1</td>\n",
       "    </tr>\n",
       "    <tr>\n",
       "      <th>6</th>\n",
       "      <td>53882</td>\n",
       "      <td>Male</td>\n",
       "      <td>74.0</td>\n",
       "      <td>1</td>\n",
       "      <td>1</td>\n",
       "      <td>Yes</td>\n",
       "      <td>Private</td>\n",
       "      <td>Rural</td>\n",
       "      <td>70.09</td>\n",
       "      <td>27.4</td>\n",
       "      <td>never smoked</td>\n",
       "      <td>1</td>\n",
       "    </tr>\n",
       "    <tr>\n",
       "      <th>7</th>\n",
       "      <td>10434</td>\n",
       "      <td>Female</td>\n",
       "      <td>69.0</td>\n",
       "      <td>0</td>\n",
       "      <td>0</td>\n",
       "      <td>No</td>\n",
       "      <td>Private</td>\n",
       "      <td>Urban</td>\n",
       "      <td>94.39</td>\n",
       "      <td>22.8</td>\n",
       "      <td>never smoked</td>\n",
       "      <td>1</td>\n",
       "    </tr>\n",
       "    <tr>\n",
       "      <th>8</th>\n",
       "      <td>27419</td>\n",
       "      <td>Female</td>\n",
       "      <td>59.0</td>\n",
       "      <td>0</td>\n",
       "      <td>0</td>\n",
       "      <td>Yes</td>\n",
       "      <td>Private</td>\n",
       "      <td>Rural</td>\n",
       "      <td>76.15</td>\n",
       "      <td>NaN</td>\n",
       "      <td>Unknown</td>\n",
       "      <td>1</td>\n",
       "    </tr>\n",
       "    <tr>\n",
       "      <th>9</th>\n",
       "      <td>60491</td>\n",
       "      <td>Female</td>\n",
       "      <td>78.0</td>\n",
       "      <td>0</td>\n",
       "      <td>0</td>\n",
       "      <td>Yes</td>\n",
       "      <td>Private</td>\n",
       "      <td>Urban</td>\n",
       "      <td>58.57</td>\n",
       "      <td>24.2</td>\n",
       "      <td>Unknown</td>\n",
       "      <td>1</td>\n",
       "    </tr>\n",
       "  </tbody>\n",
       "</table>\n",
       "</div>"
      ],
      "text/plain": [
       "      id  gender   age  hypertension  heart_disease ever_married  \\\n",
       "0   9046    Male  67.0             0              1          Yes   \n",
       "1  51676  Female  61.0             0              0          Yes   \n",
       "2  31112    Male  80.0             0              1          Yes   \n",
       "3  60182  Female  49.0             0              0          Yes   \n",
       "4   1665  Female  79.0             1              0          Yes   \n",
       "5  56669    Male  81.0             0              0          Yes   \n",
       "6  53882    Male  74.0             1              1          Yes   \n",
       "7  10434  Female  69.0             0              0           No   \n",
       "8  27419  Female  59.0             0              0          Yes   \n",
       "9  60491  Female  78.0             0              0          Yes   \n",
       "\n",
       "       work_type Residence_type  avg_glucose_level   bmi   smoking_status  \\\n",
       "0        Private          Urban             228.69  36.6  formerly smoked   \n",
       "1  Self-employed          Rural             202.21   NaN     never smoked   \n",
       "2        Private          Rural             105.92  32.5     never smoked   \n",
       "3        Private          Urban             171.23  34.4           smokes   \n",
       "4  Self-employed          Rural             174.12  24.0     never smoked   \n",
       "5        Private          Urban             186.21  29.0  formerly smoked   \n",
       "6        Private          Rural              70.09  27.4     never smoked   \n",
       "7        Private          Urban              94.39  22.8     never smoked   \n",
       "8        Private          Rural              76.15   NaN          Unknown   \n",
       "9        Private          Urban              58.57  24.2          Unknown   \n",
       "\n",
       "   stroke  \n",
       "0       1  \n",
       "1       1  \n",
       "2       1  \n",
       "3       1  \n",
       "4       1  \n",
       "5       1  \n",
       "6       1  \n",
       "7       1  \n",
       "8       1  \n",
       "9       1  "
      ]
     },
     "execution_count": 19,
     "metadata": {},
     "output_type": "execute_result"
    }
   ],
   "source": [
    "data.head(10)"
   ]
  },
  {
   "cell_type": "markdown",
   "id": "37f592d1",
   "metadata": {},
   "source": [
    "### Preprocesado\n",
    "Limpieza de datos nulos y columnas no dependientes del modelo."
   ]
  },
  {
   "cell_type": "code",
   "execution_count": 20,
   "id": "e462a378",
   "metadata": {},
   "outputs": [
    {
     "name": "stdout",
     "output_type": "stream",
     "text": [
      "id                     0\n",
      "gender                 0\n",
      "age                    0\n",
      "hypertension           0\n",
      "heart_disease          0\n",
      "ever_married           0\n",
      "work_type              0\n",
      "Residence_type         0\n",
      "avg_glucose_level      0\n",
      "bmi                  201\n",
      "smoking_status         0\n",
      "stroke                 0\n",
      "dtype: int64\n"
     ]
    }
   ],
   "source": [
    "print(data.isnull().sum())"
   ]
  },
  {
   "cell_type": "code",
   "execution_count": 21,
   "id": "b0848db0",
   "metadata": {},
   "outputs": [],
   "source": [
    "data = data.dropna() # Quitamos valores con null , filas totales 4909"
   ]
  },
  {
   "cell_type": "markdown",
   "id": "4409bc66",
   "metadata": {},
   "source": [
    "### Selección de datos\n",
    "Separamos nuestros datos del dataframe en variables dependientes o independientes.\n",
    "Almacenamos solamente en X las columnas que realmente tienen valores relevantes para nuestro algoritmo ya que por ejemplo la columna **STROKE** es una variable dependiente y la columna **id** no tiene peso estadístico en el pronóstico. Entonces tomamos los siguientes datos:\n",
    "\n",
    "- La X, todas las columnas menos **ID y STROKE**. Siendo estos los valores independientes.\n",
    "- La Y, con la columna de valores booleanos de **STROKE**. Siendo este el valor dependiente."
   ]
  },
  {
   "cell_type": "code",
   "execution_count": 22,
   "id": "9b75418e",
   "metadata": {},
   "outputs": [],
   "source": [
    "#PREPROCESADO\n",
    "X = data.iloc[:, 1:-1] # quitamos id y el boleano de si ha tenido un ictus\n",
    "Y = data.iloc[:, -1] # seleccionamos stroke"
   ]
  },
  {
   "cell_type": "markdown",
   "id": "82e5ca00",
   "metadata": {},
   "source": [
    "### Transformación de datos\n",
    "\n",
    "En el dataframe existen variables tipo object de modo que las transformo con el metodo LabelEnconder(). Previamente recojo por la condiccion if el tipo object para que solo me seleccione las columnas que son tipo object. Asi el modelo podrá reconocer los objetos como números."
   ]
  },
  {
   "cell_type": "code",
   "execution_count": 24,
   "id": "3762b5ec",
   "metadata": {},
   "outputs": [],
   "source": [
    "# Transformacion de las variables objetos a numericos\n",
    "objeto = X.gender.dtypes\n",
    "max = len(X.columns)\n",
    "le = LabelEncoder()"
   ]
  },
  {
   "cell_type": "code",
   "execution_count": 26,
   "id": "1a58120b",
   "metadata": {},
   "outputs": [],
   "source": [
    "# Codificamos los objetos para cada columna\n",
    "for i in range(max):\n",
    "    if ( X.iloc[:,i].dtypes == objeto):\n",
    "        X.iloc[:, i] = le.fit_transform(X.iloc[:, i])"
   ]
  },
  {
   "cell_type": "code",
   "execution_count": 27,
   "id": "35f64378",
   "metadata": {},
   "outputs": [
    {
     "data": {
      "text/html": [
       "<div>\n",
       "<style scoped>\n",
       "    .dataframe tbody tr th:only-of-type {\n",
       "        vertical-align: middle;\n",
       "    }\n",
       "\n",
       "    .dataframe tbody tr th {\n",
       "        vertical-align: top;\n",
       "    }\n",
       "\n",
       "    .dataframe thead th {\n",
       "        text-align: right;\n",
       "    }\n",
       "</style>\n",
       "<table border=\"1\" class=\"dataframe\">\n",
       "  <thead>\n",
       "    <tr style=\"text-align: right;\">\n",
       "      <th></th>\n",
       "      <th>gender</th>\n",
       "      <th>age</th>\n",
       "      <th>hypertension</th>\n",
       "      <th>heart_disease</th>\n",
       "      <th>ever_married</th>\n",
       "      <th>work_type</th>\n",
       "      <th>Residence_type</th>\n",
       "      <th>avg_glucose_level</th>\n",
       "      <th>bmi</th>\n",
       "      <th>smoking_status</th>\n",
       "    </tr>\n",
       "  </thead>\n",
       "  <tbody>\n",
       "    <tr>\n",
       "      <th>0</th>\n",
       "      <td>1</td>\n",
       "      <td>67.0</td>\n",
       "      <td>0</td>\n",
       "      <td>1</td>\n",
       "      <td>1</td>\n",
       "      <td>2</td>\n",
       "      <td>1</td>\n",
       "      <td>228.69</td>\n",
       "      <td>36.6</td>\n",
       "      <td>1</td>\n",
       "    </tr>\n",
       "    <tr>\n",
       "      <th>2</th>\n",
       "      <td>1</td>\n",
       "      <td>80.0</td>\n",
       "      <td>0</td>\n",
       "      <td>1</td>\n",
       "      <td>1</td>\n",
       "      <td>2</td>\n",
       "      <td>0</td>\n",
       "      <td>105.92</td>\n",
       "      <td>32.5</td>\n",
       "      <td>2</td>\n",
       "    </tr>\n",
       "    <tr>\n",
       "      <th>3</th>\n",
       "      <td>0</td>\n",
       "      <td>49.0</td>\n",
       "      <td>0</td>\n",
       "      <td>0</td>\n",
       "      <td>1</td>\n",
       "      <td>2</td>\n",
       "      <td>1</td>\n",
       "      <td>171.23</td>\n",
       "      <td>34.4</td>\n",
       "      <td>3</td>\n",
       "    </tr>\n",
       "    <tr>\n",
       "      <th>4</th>\n",
       "      <td>0</td>\n",
       "      <td>79.0</td>\n",
       "      <td>1</td>\n",
       "      <td>0</td>\n",
       "      <td>1</td>\n",
       "      <td>3</td>\n",
       "      <td>0</td>\n",
       "      <td>174.12</td>\n",
       "      <td>24.0</td>\n",
       "      <td>2</td>\n",
       "    </tr>\n",
       "    <tr>\n",
       "      <th>5</th>\n",
       "      <td>1</td>\n",
       "      <td>81.0</td>\n",
       "      <td>0</td>\n",
       "      <td>0</td>\n",
       "      <td>1</td>\n",
       "      <td>2</td>\n",
       "      <td>1</td>\n",
       "      <td>186.21</td>\n",
       "      <td>29.0</td>\n",
       "      <td>1</td>\n",
       "    </tr>\n",
       "    <tr>\n",
       "      <th>6</th>\n",
       "      <td>1</td>\n",
       "      <td>74.0</td>\n",
       "      <td>1</td>\n",
       "      <td>1</td>\n",
       "      <td>1</td>\n",
       "      <td>2</td>\n",
       "      <td>0</td>\n",
       "      <td>70.09</td>\n",
       "      <td>27.4</td>\n",
       "      <td>2</td>\n",
       "    </tr>\n",
       "    <tr>\n",
       "      <th>7</th>\n",
       "      <td>0</td>\n",
       "      <td>69.0</td>\n",
       "      <td>0</td>\n",
       "      <td>0</td>\n",
       "      <td>0</td>\n",
       "      <td>2</td>\n",
       "      <td>1</td>\n",
       "      <td>94.39</td>\n",
       "      <td>22.8</td>\n",
       "      <td>2</td>\n",
       "    </tr>\n",
       "    <tr>\n",
       "      <th>9</th>\n",
       "      <td>0</td>\n",
       "      <td>78.0</td>\n",
       "      <td>0</td>\n",
       "      <td>0</td>\n",
       "      <td>1</td>\n",
       "      <td>2</td>\n",
       "      <td>1</td>\n",
       "      <td>58.57</td>\n",
       "      <td>24.2</td>\n",
       "      <td>0</td>\n",
       "    </tr>\n",
       "    <tr>\n",
       "      <th>10</th>\n",
       "      <td>0</td>\n",
       "      <td>81.0</td>\n",
       "      <td>1</td>\n",
       "      <td>0</td>\n",
       "      <td>1</td>\n",
       "      <td>2</td>\n",
       "      <td>0</td>\n",
       "      <td>80.43</td>\n",
       "      <td>29.7</td>\n",
       "      <td>2</td>\n",
       "    </tr>\n",
       "    <tr>\n",
       "      <th>11</th>\n",
       "      <td>0</td>\n",
       "      <td>61.0</td>\n",
       "      <td>0</td>\n",
       "      <td>1</td>\n",
       "      <td>1</td>\n",
       "      <td>0</td>\n",
       "      <td>0</td>\n",
       "      <td>120.46</td>\n",
       "      <td>36.8</td>\n",
       "      <td>3</td>\n",
       "    </tr>\n",
       "  </tbody>\n",
       "</table>\n",
       "</div>"
      ],
      "text/plain": [
       "    gender   age  hypertension  heart_disease  ever_married  work_type  \\\n",
       "0        1  67.0             0              1             1          2   \n",
       "2        1  80.0             0              1             1          2   \n",
       "3        0  49.0             0              0             1          2   \n",
       "4        0  79.0             1              0             1          3   \n",
       "5        1  81.0             0              0             1          2   \n",
       "6        1  74.0             1              1             1          2   \n",
       "7        0  69.0             0              0             0          2   \n",
       "9        0  78.0             0              0             1          2   \n",
       "10       0  81.0             1              0             1          2   \n",
       "11       0  61.0             0              1             1          0   \n",
       "\n",
       "    Residence_type  avg_glucose_level   bmi  smoking_status  \n",
       "0                1             228.69  36.6               1  \n",
       "2                0             105.92  32.5               2  \n",
       "3                1             171.23  34.4               3  \n",
       "4                0             174.12  24.0               2  \n",
       "5                1             186.21  29.0               1  \n",
       "6                0              70.09  27.4               2  \n",
       "7                1              94.39  22.8               2  \n",
       "9                1              58.57  24.2               0  \n",
       "10               0              80.43  29.7               2  \n",
       "11               0             120.46  36.8               3  "
      ]
     },
     "execution_count": 27,
     "metadata": {},
     "output_type": "execute_result"
    }
   ],
   "source": [
    "X.head(10)"
   ]
  },
  {
   "cell_type": "markdown",
   "id": "387f1f54",
   "metadata": {},
   "source": [
    "### TRAIN Y TEST\n",
    "Después de limpiar, preprocesar los datos, considerar que columnas son irrelavantes para nuestro modelo y transformar nuestros dato tipo texto a numérico ahora ya se pasaría a la fase de división de datos, es decir, considerar cuanto porcentaje de datos del dataset sería para entrenar nuestro modelo y el otro para testearlo y verificar su precisión. Normalmente:\n",
    "\n",
    "- **TRAIN**, tiene el 80% de datos del dataset original ya que cuanto más datos más comprobaciones realizará y más fiable será.\n",
    "- **TEST**, tiene el 20% de datos del dataset original y con él se mide la precisión.\n",
    "\n",
    "Como sería un proceso muy laborioso hacerlo manualmente con está gran cantidad de datos hay una función en Python del modulo sklearn llamada **train_test_split** que nos facilita esta división de datos."
   ]
  },
  {
   "cell_type": "code",
   "execution_count": 28,
   "id": "21c1dfb6",
   "metadata": {},
   "outputs": [],
   "source": [
    "# Dividimos los datos usando la funcion train_test_split para Train Y test del modelo\n",
    "X_train, X_test, y_train, y_test = train_test_split(X, Y, test_size = 0.2, random_state = 0)"
   ]
  },
  {
   "cell_type": "markdown",
   "id": "8102ba6e",
   "metadata": {},
   "source": [
    "### XGBOOST\n",
    "XGBoost es una biblioteca de aumento de gradiente distribuida optimizada diseñada para ser altamente eficiente , flexible y portátil . Implementa algoritmos de aprendizaje automático bajo el marco Gradient Boosting . XGBoost proporciona un impulso de árbol paralelo (también conocido como GBDT, GBM) que resuelve muchos problemas de ciencia de datos de una manera rápida y precisa"
   ]
  },
  {
   "cell_type": "code",
   "execution_count": 29,
   "id": "e3252633",
   "metadata": {},
   "outputs": [],
   "source": [
    "# Llamamos a la funcion XGBOOST y creamos un objeto. Ajustamos el modelo y lo entrenamos\n",
    "XGBOOST = XGBClassifier()\n",
    "XGBOOST.fit(X_train, y_train)\n",
    "\n",
    "# Con el modelo entrenado, hacemos una prediccion de los datos del testing\n",
    "y_pred = XGBOOST.predict(X_test)"
   ]
  },
  {
   "cell_type": "markdown",
   "id": "6b0767ad",
   "metadata": {},
   "source": [
    "### TESTING DEL MODELO ENTRENADO\n",
    "Hacemos la matriz de confusion para evaluar los datos, se observa en ella que tenemos **935 personas acertadas** con nuestro pronóstico y **47 falsos positivos-negativos**  del test de datos de 982 personas. **Precisión 94%**"
   ]
  },
  {
   "cell_type": "code",
   "execution_count": 30,
   "id": "d124503b",
   "metadata": {},
   "outputs": [
    {
     "name": "stdout",
     "output_type": "stream",
     "text": [
      "[[934   5]\n",
      " [ 42   1]]\n"
     ]
    }
   ],
   "source": [
    "cm = confusion_matrix(y_test, y_pred)\n",
    "print(cm)"
   ]
  },
  {
   "cell_type": "code",
   "execution_count": 36,
   "id": "7f599939",
   "metadata": {},
   "outputs": [
    {
     "name": "stdout",
     "output_type": "stream",
     "text": [
      "PRECISIÓN : 95.21384928716904\n"
     ]
    }
   ],
   "source": [
    "print(\"PRECISIÓN : \" + str(935/982*100))"
   ]
  },
  {
   "cell_type": "code",
   "execution_count": 37,
   "id": "33300e80",
   "metadata": {},
   "outputs": [
    {
     "data": {
      "image/jpeg": "[encoded data removed]",
      "text/plain": [
       "<IPython.core.display.Image object>"
      ]
     },
     "execution_count": 37,
     "metadata": {},
     "output_type": "execute_result"
    }
   ],
   "source": [
    "from IPython.display import Image\n",
    "Image(\"C:/Users/USUARIO/Desktop/Jupyter/DATA/PrediccionFI.jpg\")"
   ]
  },
  {
   "cell_type": "markdown",
   "id": "5f88be6d",
   "metadata": {},
   "source": [
    "### K-FOLD VALIDATION\n",
    "Aplicamos el algoritmo de K-fold cross de validacion para medir la precisión de nuestro algoritmo\n",
    "teniendo asi una mejor medida (validacion cruzada).\n",
    "Como resultado obtengo una precisión óptima del modelo."
   ]
  },
  {
   "cell_type": "code",
   "execution_count": 39,
   "id": "78eaa204",
   "metadata": {},
   "outputs": [
    {
     "name": "stdout",
     "output_type": "stream",
     "text": [
      "Precision: 94.65 %\n",
      "Desviacion estandar: 0.47 %\n"
     ]
    }
   ],
   "source": [
    "accuracies = cross_val_score(estimator = XGBOOST, X = X_train, y = y_train, cv = 10)\n",
    "print(\"Precision: {:.2f} %\".format(accuracies.mean()*100))\n",
    "print(\"Desviacion estandar: {:.2f} %\".format(accuracies.std()*100))"
   ]
  },
  {
   "cell_type": "markdown",
   "id": "4280abce",
   "metadata": {},
   "source": [
    "### MODELO ENTRENADO\n",
    "Como ya está el modelo entrenado y tengo una precisión óptima del **94%** ahora voy a sacar las columnas que el modelo de XGBOOST ha considerado importantes para pronosticar los casos clínicos del estudio de ictus."
   ]
  },
  {
   "cell_type": "code",
   "execution_count": 40,
   "id": "56e58df4",
   "metadata": {},
   "outputs": [
    {
     "name": "stdout",
     "output_type": "stream",
     "text": [
      "                   Importancia %\n",
      "age                    17.816813\n",
      "heart_disease          10.532831\n",
      "hypertension           10.085682\n",
      "work_type               9.924984\n",
      "Residence_type          9.399170\n",
      "smoking_status          9.352705\n",
      "avg_glucose_level       8.989411\n",
      "bmi                     8.794698\n",
      "ever_married            8.584219\n",
      "gender                  6.519490\n"
     ]
    }
   ],
   "source": [
    "# Vamos a ver que columnas le ha dado mas importancia para nuestro modelo\n",
    "colummnas_importancia = XGBOOST.feature_importances_\n",
    "columnasnombres = XGBOOST.feature_names_in_\n",
    "dataXgboost = pd.DataFrame(colummnas_importancia, columnasnombres)\n",
    "dataXgboost = dataXgboost.rename(columns={0:'Importancia %'})\n",
    "orden_desce = dataXgboost.sort_values('Importancia %',ascending=False)\n",
    "orden_desce = orden_desce.iloc[:] * 100\n",
    "print(orden_desce.head(10))"
   ]
  },
  {
   "cell_type": "markdown",
   "id": "22684f86",
   "metadata": {},
   "source": [
    "## Conclusión\n",
    "Podemos observar que estas columnas/características son significativas para nuestro modelo para pronosticar los sucesos por ictus. Ahora conociendo estos datos podríamos hacer nuestro caso de estudio con los pacientes que presentaran estas características en los informes. Por ejemplo:\n",
    "- **age**, la edad es un valor muy importante para el modelo, con un **17,81%**.\n",
    "- **heart_disease**, si le ha sucedido algun infarto de corazón, con un **10,53%**.\n",
    "- **hypertension**, si tiene hipertensión el pacience o no, con un **10,08%**\n",
    "- **work_type**, el tipo de trabajo, con un **9,92%**\n",
    "- ...\n",
    "\n",
    "En el caso de la edad, es evidente que es una variable dependiente para que suceda un ictus por el deterioro de una persona con el tiempo pero en los casos de infartos cardíacos, de hipertensión y el tipo de trabajo son también muy influyentes de modo que se podrían estudiar estos supuestos para realizar una mejora de vida en los supuestos de ictus por ejemplo tratarse de la hipertensión, cambiar de trabajo, si es fumador dejar de fumar, etc.\n",
    "\n",
    "**Autor: Carlos Mir Martínez**\n",
    "\n",
    "**Fecha:23/05/2022**"
   ]
  }
 ],
 "metadata": {
  "kernelspec": {
   "display_name": "Python 3 (ipykernel)",
   "language": "python",
   "name": "python3"
  },
  "language_info": {
   "codemirror_mode": {
    "name": "ipython",
    "version": 3
   },
   "file_extension": ".py",
   "mimetype": "text/x-python",
   "name": "python",
   "nbconvert_exporter": "python",
   "pygments_lexer": "ipython3",
   "version": "3.7.13"
  }
 },
 "nbformat": 4,
 "nbformat_minor": 5
}
